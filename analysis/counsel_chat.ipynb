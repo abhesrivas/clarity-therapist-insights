{
 "cells": [
  {
   "cell_type": "markdown",
   "metadata": {},
   "source": [
    "Link: https://github.com/nbertagnolli/counsel-chat"
   ]
  },
  {
   "cell_type": "markdown",
   "metadata": {},
   "source": [
    "### Load counsel-chat data"
   ]
  },
  {
   "cell_type": "code",
   "execution_count": 1,
   "metadata": {},
   "outputs": [
    {
     "name": "stderr",
     "output_type": "stream",
     "text": [
      "/Users/abhi/miniconda3/envs/zoo/lib/python3.11/site-packages/tqdm/auto.py:21: TqdmWarning: IProgress not found. Please update jupyter and ipywidgets. See https://ipywidgets.readthedocs.io/en/stable/user_install.html\n",
      "  from .autonotebook import tqdm as notebook_tqdm\n"
     ]
    }
   ],
   "source": [
    "from datasets import load_dataset"
   ]
  },
  {
   "cell_type": "code",
   "execution_count": 2,
   "metadata": {},
   "outputs": [
    {
     "name": "stderr",
     "output_type": "stream",
     "text": [
      "Repo card metadata block was not found. Setting CardData to empty.\n"
     ]
    }
   ],
   "source": [
    "data = load_dataset(\"nbertagnolli/counsel-chat\")['train'].to_pandas()"
   ]
  },
  {
   "cell_type": "code",
   "execution_count": 3,
   "metadata": {},
   "outputs": [
    {
     "data": {
      "text/html": [
       "<div>\n",
       "<style scoped>\n",
       "    .dataframe tbody tr th:only-of-type {\n",
       "        vertical-align: middle;\n",
       "    }\n",
       "\n",
       "    .dataframe tbody tr th {\n",
       "        vertical-align: top;\n",
       "    }\n",
       "\n",
       "    .dataframe thead th {\n",
       "        text-align: right;\n",
       "    }\n",
       "</style>\n",
       "<table border=\"1\" class=\"dataframe\">\n",
       "  <thead>\n",
       "    <tr style=\"text-align: right;\">\n",
       "      <th></th>\n",
       "      <th>questionID</th>\n",
       "      <th>questionTitle</th>\n",
       "      <th>questionText</th>\n",
       "      <th>questionLink</th>\n",
       "      <th>topic</th>\n",
       "      <th>therapistInfo</th>\n",
       "      <th>therapistURL</th>\n",
       "      <th>answerText</th>\n",
       "      <th>upvotes</th>\n",
       "      <th>views</th>\n",
       "    </tr>\n",
       "  </thead>\n",
       "  <tbody>\n",
       "    <tr>\n",
       "      <th>0</th>\n",
       "      <td>0</td>\n",
       "      <td>Do I have too many issues for counseling?</td>\n",
       "      <td>I have so many issues to address. I have a his...</td>\n",
       "      <td>https://counselchat.com/questions/do-i-have-to...</td>\n",
       "      <td>depression</td>\n",
       "      <td>Jennifer MolinariHypnotherapist &amp; Licensed Cou...</td>\n",
       "      <td>https://counselchat.com/therapists/jennifer-mo...</td>\n",
       "      <td>It is very common for people to have multiple ...</td>\n",
       "      <td>3</td>\n",
       "      <td>1971</td>\n",
       "    </tr>\n",
       "    <tr>\n",
       "      <th>1</th>\n",
       "      <td>0</td>\n",
       "      <td>Do I have too many issues for counseling?</td>\n",
       "      <td>I have so many issues to address. I have a his...</td>\n",
       "      <td>https://counselchat.com/questions/do-i-have-to...</td>\n",
       "      <td>depression</td>\n",
       "      <td>Jason Lynch, MS, LMHC, LCAC, ADSIndividual &amp; C...</td>\n",
       "      <td>https://counselchat.com/therapists/jason-lynch...</td>\n",
       "      <td>I've never heard of someone having \"too many i...</td>\n",
       "      <td>2</td>\n",
       "      <td>386</td>\n",
       "    </tr>\n",
       "  </tbody>\n",
       "</table>\n",
       "</div>"
      ],
      "text/plain": [
       "   questionID                              questionTitle  \\\n",
       "0           0  Do I have too many issues for counseling?   \n",
       "1           0  Do I have too many issues for counseling?   \n",
       "\n",
       "                                        questionText  \\\n",
       "0  I have so many issues to address. I have a his...   \n",
       "1  I have so many issues to address. I have a his...   \n",
       "\n",
       "                                        questionLink       topic  \\\n",
       "0  https://counselchat.com/questions/do-i-have-to...  depression   \n",
       "1  https://counselchat.com/questions/do-i-have-to...  depression   \n",
       "\n",
       "                                       therapistInfo  \\\n",
       "0  Jennifer MolinariHypnotherapist & Licensed Cou...   \n",
       "1  Jason Lynch, MS, LMHC, LCAC, ADSIndividual & C...   \n",
       "\n",
       "                                        therapistURL  \\\n",
       "0  https://counselchat.com/therapists/jennifer-mo...   \n",
       "1  https://counselchat.com/therapists/jason-lynch...   \n",
       "\n",
       "                                          answerText  upvotes  views  \n",
       "0  It is very common for people to have multiple ...        3   1971  \n",
       "1  I've never heard of someone having \"too many i...        2    386  "
      ]
     },
     "execution_count": 3,
     "metadata": {},
     "output_type": "execute_result"
    }
   ],
   "source": [
    "data.head(2)"
   ]
  },
  {
   "cell_type": "code",
   "execution_count": 4,
   "metadata": {},
   "outputs": [
    {
     "data": {
      "text/plain": [
       "(2775, 10)"
      ]
     },
     "execution_count": 4,
     "metadata": {},
     "output_type": "execute_result"
    }
   ],
   "source": [
    "data.shape"
   ]
  },
  {
   "cell_type": "code",
   "execution_count": 20,
   "metadata": {},
   "outputs": [
    {
     "data": {
      "text/plain": [
       "questionTitle\n",
       "How would I know if I have the right therapist?                                   107\n",
       "Do I have too many issues for counseling?                                          86\n",
       "Is it normal to cry at therapy?                                                    83\n",
       "I think my daughter is stressing too much                                          51\n",
       "Can I change my feeling of being worthless to everyone?                            35\n",
       "                                                                                 ... \n",
       "How do I get out of an abusive relationship?                                        1\n",
       "I have a son with my girlfriend, but she is emotionally abusive. What do I do?      1\n",
       "When should I give up on a relationship?                                            1\n",
       "I endured sexual and physical abuse by my brother as child                          1\n",
       "I need to know how to cope with misophonia before I go completely insane            1\n",
       "Name: count, Length: 933, dtype: int64"
      ]
     },
     "execution_count": 20,
     "metadata": {},
     "output_type": "execute_result"
    }
   ],
   "source": [
    "# we can potentially predict these titles out too given text – could help us get to the \"RFV\" – reason for visit perhaps?\n",
    "data['questionTitle'].value_counts()"
   ]
  },
  {
   "cell_type": "code",
   "execution_count": 5,
   "metadata": {},
   "outputs": [
    {
     "data": {
      "text/plain": [
       "topic\n",
       "depression                  465\n",
       "anxiety                     358\n",
       "counseling-fundamentals     270\n",
       "intimacy                    248\n",
       "relationships               202\n",
       "parenting                   191\n",
       "family-conflict             144\n",
       "trauma                      102\n",
       "self-esteem                 100\n",
       "relationship-dissolution     98\n",
       "behavioral-change            69\n",
       "lgbtq                        65\n",
       "marriage                     52\n",
       "anger-management             48\n",
       "spirituality                 47\n",
       "substance-abuse              45\n",
       "professional-ethics          41\n",
       "grief-and-loss               37\n",
       "workplace-relationships      36\n",
       "social-relationships         25\n",
       "diagnosis                    25\n",
       "domestic-violence            21\n",
       "eating-disorders             16\n",
       "legal-regulatory             14\n",
       "stress                       13\n",
       "addiction                    13\n",
       "sleep-improvement            11\n",
       "children-adolescents          8\n",
       "human-sexuality               7\n",
       "military-issues               3\n",
       "self-harm                     1\n",
       "Name: count, dtype: int64"
      ]
     },
     "execution_count": 5,
     "metadata": {},
     "output_type": "execute_result"
    }
   ],
   "source": [
    "data['topic'].value_counts()"
   ]
  },
  {
   "cell_type": "code",
   "execution_count": 12,
   "metadata": {},
   "outputs": [],
   "source": [
    "# observation: these topics could be classes itself for our model\n",
    "# problem: multi-label so one example could span multiple classes but our examples might only have label each\n",
    "# solution: we could train the model on this and then utilize Sigmoid to get multi-label predictions out during inference"
   ]
  },
  {
   "cell_type": "code",
   "execution_count": 14,
   "metadata": {},
   "outputs": [
    {
     "data": {
      "text/plain": [
       "therapistInfo\n",
       "Sherry Katz, LCSWCouples and Family Therapist, LCSW                                                                       497\n",
       "Lauren Ostrowski, MA, LPC, NCC, BC-TMH, CCTP, CCHI tailor my therapeutic approach to each client's strengths and goals    146\n",
       "Lynda MartensMarriage & Family Therapist, MSc, RP, RMFT                                                                   127\n",
       "Kaileen McMickle, MS, LPCLicensed Professional Counselor                                                                   84\n",
       "Dr. Meredyth LawrynceServing Clients Nationwide                                                                            64\n",
       "                                                                                                                         ... \n",
       "Sally highNo more coping skills. It's time to eliminate fear.                                                               1\n",
       "Rachel LingleWholeHeartAZ.com Chandler                                                                                      1\n",
       "Alexandra LarameeTherapy Practice for Professional Women                                                                    1\n",
       "Dr. Denise HallWork Health Consulting and Career Development                                                                1\n",
       "Janet SullivanCertified Clinical Anxiety Treatment Professional                                                             1\n",
       "Name: count, Length: 437, dtype: int64"
      ]
     },
     "execution_count": 14,
     "metadata": {},
     "output_type": "execute_result"
    }
   ],
   "source": [
    "# let's find out how many unique therapists we have here\n",
    "# cool, we can utilize each therapists responses to build their profiles and learn their styles\n",
    "data['therapistInfo'].value_counts()"
   ]
  },
  {
   "cell_type": "code",
   "execution_count": null,
   "metadata": {},
   "outputs": [],
   "source": [
    "# let's check if multiple therapists have commented on the same posts\n",
    "data"
   ]
  },
  {
   "cell_type": "code",
   "execution_count": 16,
   "metadata": {},
   "outputs": [
    {
     "data": {
      "text/plain": [
       "count    2775.000000\n",
       "mean        0.519640\n",
       "std         1.042825\n",
       "min         0.000000\n",
       "25%         0.000000\n",
       "50%         0.000000\n",
       "75%         1.000000\n",
       "max        12.000000\n",
       "Name: upvotes, dtype: float64"
      ]
     },
     "execution_count": 16,
     "metadata": {},
     "output_type": "execute_result"
    }
   ],
   "source": [
    "# doesn't seem super useful\n",
    "data['upvotes'].describe()"
   ]
  },
  {
   "cell_type": "code",
   "execution_count": 17,
   "metadata": {},
   "outputs": [
    {
     "data": {
      "text/plain": [
       "count     2775.000000\n",
       "mean       328.031712\n",
       "std        796.306059\n",
       "min          1.000000\n",
       "25%         74.500000\n",
       "50%        132.000000\n",
       "75%        254.500000\n",
       "max      16738.000000\n",
       "Name: views, dtype: float64"
      ]
     },
     "execution_count": 17,
     "metadata": {},
     "output_type": "execute_result"
    }
   ],
   "source": [
    "# could we use this as a proxy to how useful the response was? this is better than upvotes as there, the distribution is pretty skewed\n",
    "data['views'].describe()"
   ]
  },
  {
   "cell_type": "code",
   "execution_count": 18,
   "metadata": {},
   "outputs": [],
   "source": [
    "# cool, so looking at this dataset, we can do the following:\n",
    "# 1. topic classifier (let's keep it simple with a sentence-BERT model here.)\n",
    "# 2. therapist persona modeling with their data\n",
    "# 3. could we perhaps also use the topic classification to model our patients after? might be more consistent – let's simulate 5 patients and each of them span 4-5 topics"
   ]
  },
  {
   "cell_type": "code",
   "execution_count": null,
   "metadata": {},
   "outputs": [],
   "source": []
  }
 ],
 "metadata": {
  "kernelspec": {
   "display_name": "zoo",
   "language": "python",
   "name": "python3"
  },
  "language_info": {
   "codemirror_mode": {
    "name": "ipython",
    "version": 3
   },
   "file_extension": ".py",
   "mimetype": "text/x-python",
   "name": "python",
   "nbconvert_exporter": "python",
   "pygments_lexer": "ipython3",
   "version": "3.11.11"
  }
 },
 "nbformat": 4,
 "nbformat_minor": 2
}
